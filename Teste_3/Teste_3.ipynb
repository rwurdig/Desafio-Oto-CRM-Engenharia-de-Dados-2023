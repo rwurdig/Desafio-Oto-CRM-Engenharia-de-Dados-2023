{
 "cells": [
  {
   "cell_type": "markdown",
   "metadata": {},
   "source": [
    "Importação de Bibliotecas"
   ]
  },
  {
   "cell_type": "code",
   "execution_count": 1,
   "metadata": {},
   "outputs": [],
   "source": [
    "import pandas as pd\n",
    "import sqlalchemy\n",
    "import sqlite3"
   ]
  },
  {
   "cell_type": "markdown",
   "metadata": {},
   "source": [
    "Importação do csv"
   ]
  },
  {
   "cell_type": "code",
   "execution_count": 2,
   "metadata": {},
   "outputs": [],
   "source": [
    "df = pd.read_csv('teste.csv')"
   ]
  },
  {
   "cell_type": "markdown",
   "metadata": {},
   "source": [
    "Apresente a query abaixo:"
   ]
  },
  {
   "cell_type": "code",
   "execution_count": null,
   "metadata": {},
   "outputs": [],
   "source": [
    "WITH \n",
    "  compras AS (\n",
    "    SELECT \n",
    "      Cliente,\n",
    "      MAX(strftime('%Y-%m-%d', Data)) AS Data, \n",
    "      COUNT(*) AS Frequencia, \n",
    "      SUM(Valor) AS ValorTotal \n",
    "    FROM tabela_compras \n",
    "    GROUP BY Cliente\n",
    "  ), \n",
    "  recencia AS (\n",
    "    SELECT \n",
    "      Cliente, \n",
    "      julianday(MAX(strftime('%Y-%m-%d', Data))) - julianday('now') AS Recencia \n",
    "    FROM tabela_compras \n",
    "    GROUP BY Cliente\n",
    "  )\n",
    "SELECT \n",
    "  compras.Cliente, \n",
    "  recencia.Recencia AS RecenciaDias, \n",
    "  compras.Frequencia, \n",
    "  compras.ValorTotal \n",
    "FROM compras \n",
    "JOIN recencia ON compras.Cliente = recencia.Cliente\n"
   ]
  }
 ],
 "metadata": {
  "interpreter": {
   "hash": "84649f447348e980c8ae7210a66ce6e377fbc686bfe874565388790ce8aa225a"
  },
  "kernelspec": {
   "display_name": "Python 3 (ipykernel)",
   "language": "python",
   "name": "python3"
  },
  "language_info": {
   "codemirror_mode": {
    "name": "ipython",
    "version": 3
   },
   "file_extension": ".py",
   "mimetype": "text/x-python",
   "name": "python",
   "nbconvert_exporter": "python",
   "pygments_lexer": "ipython3",
   "version": "3.9.13"
  }
 },
 "nbformat": 4,
 "nbformat_minor": 2
}
