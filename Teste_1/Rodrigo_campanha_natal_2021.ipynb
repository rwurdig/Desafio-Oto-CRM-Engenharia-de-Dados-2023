{
 "cells": [
  {
   "cell_type": "markdown",
   "id": "a1b3e5e2",
   "metadata": {},
   "source": [
    "Importando as bibliotecas"
   ]
  },
  {
   "cell_type": "code",
   "execution_count": 1,
   "id": "f9017f6c",
   "metadata": {},
   "outputs": [],
   "source": [
    "import pandas as pd\n",
    "import chardet\n",
    "import unidecode"
   ]
  },
  {
   "cell_type": "code",
   "execution_count": 2,
   "id": "620c8a29",
   "metadata": {},
   "outputs": [],
   "source": [
    "# 1. Identificar o encoding do arquivo\n",
    "\n",
    "with open('natal2021.csv', 'rb') as f:\n",
    "    result = chardet.detect(f.read())\n",
    "encoding = result['encoding']\n"
   ]
  },
  {
   "cell_type": "code",
   "execution_count": 3,
   "id": "af1c9977",
   "metadata": {},
   "outputs": [],
   "source": [
    "# 2. Processar o arquivo de 1000 em 1000 linhas\n",
    "\n",
    "chunk_size = 1000\n",
    "chunks = pd.read_csv('natal2021.csv', chunksize=chunk_size, encoding=encoding)\n"
   ]
  },
  {
   "cell_type": "code",
   "execution_count": 4,
   "id": "eadd77c6",
   "metadata": {},
   "outputs": [],
   "source": [
    "# 3. Remover os espaços das colunas\n",
    "\n",
    "def remove_spaces(df):\n",
    "    for col in df.columns:\n",
    "        if df[col].dtype == 'object':\n",
    "            df[col] = df[col].str.strip()\n",
    "    return df\n"
   ]
  },
  {
   "cell_type": "code",
   "execution_count": 5,
   "id": "8f096c70",
   "metadata": {},
   "outputs": [],
   "source": [
    "# 4. Criar uma coluna CITY_ASCII no arquivo\n",
    "\n",
    "def create_ascii_col(df):\n",
    "    df['CITY_ASCII'] = df['CITY'].apply(lambda x: unidecode.unidecode(x).upper())\n",
    "    return df\n"
   ]
  },
  {
   "cell_type": "code",
   "execution_count": 6,
   "id": "409e3fe5",
   "metadata": {},
   "outputs": [],
   "source": [
    "# 5. Remover os caracteres não numéricos da coluna PHONE, os - e os ()\n",
    "\n",
    "def remove_non_numeric(df):\n",
    "    df['PHONE'] = df['PHONE'].str.replace('-', '').str.replace('(', '').str.replace(')', '').str.replace(r'\\D+', '', regex=True)\n",
    "    return df\n",
    "  "
   ]
  },
  {
   "cell_type": "code",
   "execution_count": null,
   "id": "f12cb353",
   "metadata": {},
   "outputs": [],
   "source": [
    "#6. Aplicar as funções a cada chunk e salvar em um novo arquivo CSV\n",
    "\n",
    "with open('arquivo_tratado_natal2021.csv', 'w', encoding='utf-8', newline='') as f:\n",
    "    for i, chunk in enumerate(chunks):\n",
    "        print(f'Processing chunk {i+1}')\n",
    "        chunk = remove_spaces(chunk)\n",
    "        chunk = create_ascii_col(chunk)\n",
    "        chunk = remove_non_numeric(chunk)\n",
    "        chunk.to_csv(f, header=(i == 0), index=True)\n",
    "print('Processing complete!')\n"
   ]
  },
  {
   "cell_type": "code",
   "execution_count": null,
   "id": "c2962a37",
   "metadata": {},
   "outputs": [],
   "source": [
    "\n"
   ]
  },
  {
   "cell_type": "code",
   "execution_count": null,
   "id": "bb8f2255",
   "metadata": {},
   "outputs": [],
   "source": []
  }
 ],
 "metadata": {
  "kernelspec": {
   "display_name": "Python 3 (ipykernel)",
   "language": "python",
   "name": "python3"
  },
  "language_info": {
   "codemirror_mode": {
    "name": "ipython",
    "version": 3
   },
   "file_extension": ".py",
   "mimetype": "text/x-python",
   "name": "python",
   "nbconvert_exporter": "python",
   "pygments_lexer": "ipython3",
   "version": "3.9.13"
  }
 },
 "nbformat": 4,
 "nbformat_minor": 5
}
